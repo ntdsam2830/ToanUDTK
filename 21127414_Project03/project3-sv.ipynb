{
 "cells": [
  {
   "cell_type": "markdown",
   "metadata": {},
   "source": [
    "# <center>Đồ án 3: Linear Regression</center>"
   ]
  },
  {
   "cell_type": "markdown",
   "metadata": {},
   "source": [
    "# Thông tin sinh viên\n",
    "\n",
    "- Họ và tên: Nguyễn Thái Đan Sâm\n",
    "- MSSV: 21127414\n",
    "- Lớp: 21CLC01"
   ]
  },
  {
   "cell_type": "markdown",
   "metadata": {},
   "source": [
    "# Import"
   ]
  },
  {
   "cell_type": "code",
   "execution_count": 1,
   "metadata": {},
   "outputs": [],
   "source": [
    "import pandas as pd\n",
    "import numpy as np\n",
    "import matplotlib.pyplot as plt\n",
    "import seaborn as sns\n",
    "from sklearn.model_selection import train_test_split\n"
   ]
  },
  {
   "cell_type": "markdown",
   "metadata": {},
   "source": [
    "# Đọc dữ liệu"
   ]
  },
  {
   "cell_type": "code",
   "execution_count": 2,
   "metadata": {},
   "outputs": [],
   "source": [
    "# Đọc dữ liệu bằng pandas\n",
    "train = pd.read_csv('train.csv')\n",
    "test = pd.read_csv('test.csv')\n",
    "\n",
    "# Lấy các đặc trưng X và giá trị mục tiêu y cho các tập huấn luyện (train) và kiểm tra (test)\n",
    "X_train = train.iloc[:, :-1]    # Dataframe (chứa các đặc trưng huấn luyện)\n",
    "y_train = train.iloc[:, -1]     # Series    (chứa 1 giá trị mục tiêu kiểm tra)\n",
    "\n",
    "X_test = test.iloc[:, :-1]      # Dataframe (chứa các đặc trưng kiểm tra)\n",
    "y_test = test.iloc[:, -1]       # Series    (chứa 1 giá trị mục tiêu kiểm tra)\n",
    "\n",
    "# Sinh viên có thể sử dụng các khác nếu cần"
   ]
  },
  {
   "cell_type": "markdown",
   "metadata": {},
   "source": [
    "# Cài đặt hàm"
   ]
  },
  {
   "cell_type": "code",
   "execution_count": 3,
   "metadata": {},
   "outputs": [],
   "source": [
    "# Cài đặt các hàm cần thiết ở đây\n",
    "#1a\n",
    "class OLSLinearRegression:\n",
    "    def fit(self, X, y):\n",
    "        X_pinv = np.linalg.inv(X.T @ X) @ X.T    # np.linalg.pinv(X)\n",
    "        self.w = X_pinv @ y\n",
    "        return self\n",
    "\n",
    "    def get_params(self):\n",
    "        return self.w\n",
    "\n",
    "    def predict(self, X):\n",
    "        return np.sum(self.w.ravel() * X, axis=1)   \n",
    "\n",
    "def MAE(y_true, predictions):\n",
    "    return np.mean(np.abs(y_true - predictions))\n",
    "\n",
    "def pre_Process(X):\n",
    "    return np.hstack((X,np.ones((X.shape[0],1))))\n"
   ]
  },
  {
   "cell_type": "code",
   "execution_count": 4,
   "metadata": {},
   "outputs": [],
   "source": [
    "#1b\n",
    "def k_fold_cross_validation(x_value, y_value, feature, k=5):\n",
    "    fold_mae_scores = []\n",
    "\n",
    "    fold_size = len(x_value) // k\n",
    "\n",
    "    for fold in range(k):\n",
    "        start_idx = fold * fold_size\n",
    "        end_idx = (fold + 1) * fold_size\n",
    "        \n",
    "        X_fold_train = x_value.iloc[np.r_[:start_idx, end_idx:]].loc[:, [feature]]\n",
    "        y_fold_train = y_value.iloc[np.r_[:start_idx, end_idx:]]\n",
    "        \n",
    "        X_fold_val = x_value.iloc[start_idx:end_idx].loc[:, [feature]]\n",
    "        y_fold_val = y_value.iloc[start_idx:end_idx]\n",
    "        \n",
    "        # Train a linear regression model on the fold\n",
    "        X_fold_train_with_bias = np.hstack((X_fold_train.to_numpy(), np.ones((X_fold_train.shape[0], 1))))\n",
    "        weights = np.linalg.inv(X_fold_train_with_bias.T @ X_fold_train_with_bias) @ X_fold_train_with_bias.T @ y_fold_train.to_numpy()\n",
    "        \n",
    "        # Make predictions on the validation set\n",
    "        X_fold_val_with_bias = np.hstack((X_fold_val.to_numpy(), np.ones((X_fold_val.shape[0], 1))))\n",
    "        predictions = X_fold_val_with_bias @ weights\n",
    "        \n",
    "        # Calculate Mean Absolute Error for the fold\n",
    "        fold_mae_scores.append(MAE(y_fold_val.to_numpy(), predictions))\n",
    "    \n",
    "    mean_mae = np.mean(fold_mae_scores)\n",
    "    return mean_mae\n",
    "\n",
    "def find_best_personality_feature(x_value, y_value, personality_features, k=5):\n",
    "    mae_scores = {}\n",
    "\n",
    "    for feature in personality_features:\n",
    "        mean_mae = k_fold_cross_validation(x_value, y_value, feature, k)\n",
    "        mae_scores[feature] = mean_mae\n",
    "\n",
    "    return mae_scores\n",
    "\n",
    "# Xáo trộn lại dữ liệu\n",
    "def shuffle_data(X_value, y_value, random_state=42):\n",
    "    # Combine X_train and y_train for shuffling\n",
    "    combined_data = pd.concat([X_value, y_value], axis=1)\n",
    "    \n",
    "    # Shuffle the combined data\n",
    "    shuffled_data = combined_data.sample(frac=1, random_state=random_state)\n",
    "    \n",
    "    # Split shuffled data back into X_train and y_train\n",
    "    X_value_shuffled = shuffled_data.drop(columns=['Salary'])\n",
    "    y_value_shuffled = shuffled_data['Salary']\n",
    "    \n",
    "    return X_value_shuffled, y_value_shuffled\n"
   ]
  },
  {
   "cell_type": "code",
   "execution_count": 5,
   "metadata": {},
   "outputs": [],
   "source": [
    "X_train1=X_train.iloc[:,:11].to_numpy()\n",
    "X_test1 = X_test.iloc[:,:11].to_numpy()\n",
    "y_train1=y_train.to_numpy()\n",
    "y_test1 = y_test.to_numpy()"
   ]
  },
  {
   "cell_type": "markdown",
   "metadata": {},
   "source": [
    "# Yêu cầu 1a: Sử dụng toàn bộ 11 đặc trưng đầu tiên `Gender`, `10percentage`, `12percentage`, `CollegeTier`, `Degree`, `collegeGPA`, `CollegeCityTier`, `English`, `Logical`, `Quant`, `Domain` (2 điểm) "
   ]
  },
  {
   "cell_type": "code",
   "execution_count": 6,
   "metadata": {},
   "outputs": [
    {
     "data": {
      "text/plain": [
       "array([-23183.33 ,    702.767,   1259.019, -99570.608,  18369.962,\n",
       "         1297.532,  -8836.727,    141.76 ,    145.742,    114.643,\n",
       "        34955.75 ,  49248.09 ])"
      ]
     },
     "execution_count": 6,
     "metadata": {},
     "output_type": "execute_result"
    }
   ],
   "source": [
    "# Phần code cho yêu cầu 1a\n",
    "X_1a=pre_Process(X_train1)\n",
    "reg=OLSLinearRegression().fit(X_1a,y_train1)\n",
    "np.round(reg.get_params(),3)"
   ]
  },
  {
   "cell_type": "code",
   "execution_count": 7,
   "metadata": {},
   "outputs": [
    {
     "name": "stdout",
     "output_type": "stream",
     "text": [
      "MAE: 105052.52978823186\n"
     ]
    }
   ],
   "source": [
    "# Gọi hàm MAE (tự cài đặt hoặc từ thư viện) trên tập kiểm tra\n",
    "predict =reg.predict(pre_Process(X_test1))\n",
    "print('MAE:', MAE(y_test1,predict))"
   ]
  },
  {
   "cell_type": "markdown",
   "metadata": {},
   "source": [
    "Công thức hồi quy (phần trọng số làm tròn đến 3 chữ số thập phân, ví dụ 0.012345 $\\to$ 0.012)\n",
    "\n",
    "$$\\text{Salary} = -23183.330x_1 + 702.767x_2 + 1259.019x_3 + -99570.608x_4 + 18369.962x_5 + 1297.532x_6 + -8836.727x_7 + 141.760x_8 \n",
    "+ 145.742x_9 + 114.643x_{10} + 34955.750x_{11} + 49248.090x_{12}$$"
   ]
  },
  {
   "cell_type": "markdown",
   "metadata": {},
   "source": [
    "# Yêu cầu 1b: Xây dựng mô hình sử dụng duy nhất 1 đặc trưng tính cách với các đặc trưng tính cách gồm `conscientiousness`, `agreeableness`, `extraversion`, `nueroticism`, `openess_to_experience`, tìm mô hình cho kết quả tốt nhất (1 điểm)"
   ]
  },
  {
   "cell_type": "markdown",
   "metadata": {},
   "source": [
    "Lưu ý: khi sử dụng cross-validation, sinh viên cần xáo trộn dữ liệu 1 lần duy nhất và thực hiện trên toàn bộ đặc trưng"
   ]
  },
  {
   "cell_type": "code",
   "execution_count": 8,
   "metadata": {},
   "outputs": [
    {
     "name": "stdout",
     "output_type": "stream",
     "text": [
      "The best personality feature: nueroticism\n",
      "The value MAE of the best feature: 123067.98457443409\n"
     ]
    },
    {
     "data": {
      "text/html": [
       "<div>\n",
       "<style scoped>\n",
       "    .dataframe tbody tr th:only-of-type {\n",
       "        vertical-align: middle;\n",
       "    }\n",
       "\n",
       "    .dataframe tbody tr th {\n",
       "        vertical-align: top;\n",
       "    }\n",
       "\n",
       "    .dataframe thead th {\n",
       "        text-align: right;\n",
       "    }\n",
       "</style>\n",
       "<table border=\"1\" class=\"dataframe\">\n",
       "  <thead>\n",
       "    <tr style=\"text-align: right;\">\n",
       "      <th></th>\n",
       "      <th>Feature</th>\n",
       "      <th>MAE</th>\n",
       "    </tr>\n",
       "  </thead>\n",
       "  <tbody>\n",
       "    <tr>\n",
       "      <th>0</th>\n",
       "      <td>conscientiousness</td>\n",
       "      <td>124016.187460</td>\n",
       "    </tr>\n",
       "    <tr>\n",
       "      <th>1</th>\n",
       "      <td>agreeableness</td>\n",
       "      <td>123098.142270</td>\n",
       "    </tr>\n",
       "    <tr>\n",
       "      <th>2</th>\n",
       "      <td>extraversion</td>\n",
       "      <td>123668.596905</td>\n",
       "    </tr>\n",
       "    <tr>\n",
       "      <th>3</th>\n",
       "      <td>nueroticism</td>\n",
       "      <td>123067.984574</td>\n",
       "    </tr>\n",
       "    <tr>\n",
       "      <th>4</th>\n",
       "      <td>openess_to_experience</td>\n",
       "      <td>123687.015610</td>\n",
       "    </tr>\n",
       "  </tbody>\n",
       "</table>\n",
       "</div>"
      ],
      "text/plain": [
       "                 Feature            MAE\n",
       "0      conscientiousness  124016.187460\n",
       "1          agreeableness  123098.142270\n",
       "2           extraversion  123668.596905\n",
       "3            nueroticism  123067.984574\n",
       "4  openess_to_experience  123687.015610"
      ]
     },
     "execution_count": 8,
     "metadata": {},
     "output_type": "execute_result"
    }
   ],
   "source": [
    "# Phần code cho yêu cầu 1b\n",
    "X_1b = X_train.iloc[:, 18:]\n",
    "# Tìm ra đặc trưng tốt nhất\n",
    "# In ra các kết quả cross-validation như yêu cầu\n",
    "X_train_shuffled, y_train_shuffled = shuffle_data(X_train, y_train)\n",
    "mae_scores = find_best_personality_feature(X_train_shuffled, y_train_shuffled, X_1b, k = 5)\n",
    "\n",
    "best_feature = min(mae_scores, key=mae_scores.get)\n",
    "print(f\"The best personality feature: {best_feature}\")\n",
    "\n",
    "best_mae = mae_scores[best_feature]\n",
    "print(f\"The value MAE of the best feature: {best_mae}\")\n",
    "\n",
    "prediction = pd.DataFrame(mae_scores.items(), columns=['Feature', 'MAE'])\n",
    "prediction"
   ]
  },
  {
   "cell_type": "code",
   "execution_count": 9,
   "metadata": {},
   "outputs": [
    {
     "name": "stdout",
     "output_type": "stream",
     "text": [
      "The value MAE of the Training Data: 123388.23814751685\n",
      "Coeficients and interception: -16021.494, 304647.553\n"
     ]
    }
   ],
   "source": [
    "# Huấn luyện lại mô hình best_personality_feature_model với đặc trưng tốt nhất trên toàn bộ tập huấn luyện\n",
    "best_feature_column = X_train_shuffled[best_feature].to_numpy().reshape(-1, 1) \n",
    "\n",
    "X_train_bias=np.hstack((best_feature_column,np.ones((best_feature_column.shape[0],1))))\n",
    "\n",
    "# Train the model on the entire training dataset with the best feature\n",
    "weights_best = np.linalg.inv(X_train_bias.T @ X_train_bias) @ X_train_bias.T @ y_train_shuffled.to_numpy()\n",
    "\n",
    "# Evaluate the model on the training dataset using mean absolute error\n",
    "predictions_train = X_train_bias @ weights_best\n",
    "mae_train = MAE(y_train_shuffled, predictions_train)\n",
    "\n",
    "print(\"The value MAE of the Training Data:\", mae_train)\n",
    "\n",
    "# Print the weights (coefficients) of the trained model\n",
    "print(\"Coeficients and interception:\", \", \".join([\"{:.3f}\".format(s) for s in weights_best]))"
   ]
  },
  {
   "cell_type": "code",
   "execution_count": 10,
   "metadata": {},
   "outputs": [
    {
     "name": "stdout",
     "output_type": "stream",
     "text": [
      "The value MAE of the Test Data: 119361.91739987815\n"
     ]
    }
   ],
   "source": [
    "# Gọi hàm MAE (tự cài đặt hoặc từ thư viện) trên tập kiểm tra với mô hình best_personality_feature_model\n",
    "X_test_shuffled, y_test_shuffled = shuffle_data(X_test, y_test)\n",
    "best_feature_column_test = X_test_shuffled[best_feature].to_numpy().reshape(-1, 1)\n",
    "\n",
    "X_test_bias=np.hstack((best_feature_column_test,np.ones((best_feature_column_test.shape[0],1))))\n",
    "\n",
    "# Make predictions on the test dataset using the trained model\n",
    "predictions_test = X_test_bias @ weights_best\n",
    "\n",
    "# Calculate Mean Absolute Error on the test dataset\n",
    "mae_test = MAE(y_test_shuffled, predictions_test)\n",
    "print(\"The value MAE of the Test Data:\", mae_test)"
   ]
  },
  {
   "cell_type": "markdown",
   "metadata": {},
   "source": [
    "Công thức hồi quy (phần trọng số làm tròn đến 3 chữ số thập phân, ví dụ 0.012345 $\\to$ 0.012)\n",
    "\n",
    "$$\\text{Salary} = -16021.494*nueroticism + 304647.553$$"
   ]
  },
  {
   "cell_type": "markdown",
   "metadata": {},
   "source": [
    "# Yêu cầu 1c: Xây dựng mô hình sử dụng duy nhất 1 đặc trưng `English`, `Logical`, `Quant`, tìm mô hình cho kết quả tốt nhất (1 điểm)"
   ]
  },
  {
   "cell_type": "markdown",
   "metadata": {},
   "source": [
    "Lưu ý: khi sử dụng cross-validation, sinh viên cần xáo trộn dữ liệu 1 lần duy nhất và thực hiện trên toàn bộ đặc trưng"
   ]
  },
  {
   "cell_type": "code",
   "execution_count": 11,
   "metadata": {},
   "outputs": [
    {
     "name": "stdout",
     "output_type": "stream",
     "text": [
      "The best personality feature: Quant\n",
      "The value MAE of the best feature: 116865.81719922007\n"
     ]
    },
    {
     "data": {
      "text/html": [
       "<div>\n",
       "<style scoped>\n",
       "    .dataframe tbody tr th:only-of-type {\n",
       "        vertical-align: middle;\n",
       "    }\n",
       "\n",
       "    .dataframe tbody tr th {\n",
       "        vertical-align: top;\n",
       "    }\n",
       "\n",
       "    .dataframe thead th {\n",
       "        text-align: right;\n",
       "    }\n",
       "</style>\n",
       "<table border=\"1\" class=\"dataframe\">\n",
       "  <thead>\n",
       "    <tr style=\"text-align: right;\">\n",
       "      <th></th>\n",
       "      <th>Feature</th>\n",
       "      <th>MAE</th>\n",
       "    </tr>\n",
       "  </thead>\n",
       "  <tbody>\n",
       "    <tr>\n",
       "      <th>0</th>\n",
       "      <td>English</td>\n",
       "      <td>120121.858199</td>\n",
       "    </tr>\n",
       "    <tr>\n",
       "      <th>1</th>\n",
       "      <td>Logical</td>\n",
       "      <td>119460.779750</td>\n",
       "    </tr>\n",
       "    <tr>\n",
       "      <th>2</th>\n",
       "      <td>Quant</td>\n",
       "      <td>116865.817199</td>\n",
       "    </tr>\n",
       "  </tbody>\n",
       "</table>\n",
       "</div>"
      ],
      "text/plain": [
       "   Feature            MAE\n",
       "0  English  120121.858199\n",
       "1  Logical  119460.779750\n",
       "2    Quant  116865.817199"
      ]
     },
     "execution_count": 11,
     "metadata": {},
     "output_type": "execute_result"
    }
   ],
   "source": [
    "# Phần code cho yêu cầu 1c\n",
    "# Tìm ra đặc trưng tốt nhất\n",
    "# In ra các kết quả cross-validation như yêu cầu\n",
    "\n",
    "X_1c=X_train[['English','Logical','Quant']]\n",
    "\n",
    "X_train_shuffled, y_train_shuffled = shuffle_data(X_train, y_train)\n",
    "mae_scores = find_best_personality_feature(X_train_shuffled, y_train_shuffled, X_1c, k = 5)\n",
    "\n",
    "best_feature = min(mae_scores, key=mae_scores.get)\n",
    "print(f\"The best personality feature: {best_feature}\")\n",
    "\n",
    "best_mae = mae_scores[best_feature]\n",
    "print(f\"The value MAE of the best feature: {best_mae}\")\n",
    "\n",
    "prediction = pd.DataFrame(mae_scores.items(), columns=['Feature', 'MAE'])\n",
    "prediction\n"
   ]
  },
  {
   "cell_type": "code",
   "execution_count": 12,
   "metadata": {},
   "outputs": [
    {
     "name": "stdout",
     "output_type": "stream",
     "text": [
      "The value MAE of the Training Data: 117166.19656080763\n",
      "Coeficients and interception: 368.852, 117759.729\n"
     ]
    }
   ],
   "source": [
    "# Huấn luyện lại mô hình best_skill_feature_model với đặc trưng tốt nhất trên toàn bộ tập huấn luyện\n",
    "best_feature_column = X_train_shuffled[best_feature].to_numpy().reshape(-1, 1) \n",
    "\n",
    "X_train_bias=np.hstack((best_feature_column,np.ones((best_feature_column.shape[0],1))))\n",
    "\n",
    "# Train the model on the entire training dataset with the best feature\n",
    "weights_best = np.linalg.inv(X_train_bias.T @ X_train_bias) @ X_train_bias.T @ y_train_shuffled.to_numpy()\n",
    "\n",
    "# Evaluate the model on the training dataset using mean absolute error\n",
    "predictions_train = X_train_bias @ weights_best\n",
    "mae_train = MAE(y_train_shuffled, predictions_train)\n",
    "\n",
    "print(\"The value MAE of the Training Data:\", mae_train)\n",
    "\n",
    "# Print the weights (coefficients) of the trained model\n",
    "print(\"Coeficients and interception:\", \", \".join([\"{:.3f}\".format(s) for s in weights_best]))"
   ]
  },
  {
   "cell_type": "code",
   "execution_count": 13,
   "metadata": {},
   "outputs": [
    {
     "name": "stdout",
     "output_type": "stream",
     "text": [
      "The value MAE of the Test Data: 108814.05968837178\n"
     ]
    }
   ],
   "source": [
    "# Gọi hàm MAE (tự cài đặt hoặc từ thư viện) trên tập kiểm tra với mô hình best_personality_feature_model\n",
    "X_test_shuffled, y_test_shuffled = shuffle_data(X_test, y_test)\n",
    "best_feature_column_test = X_test_shuffled[best_feature].to_numpy().reshape(-1, 1)\n",
    "\n",
    "X_test_bias=np.hstack((best_feature_column_test,np.ones((best_feature_column_test.shape[0],1))))\n",
    "\n",
    "# Make predictions on the test dataset using the trained model\n",
    "predictions_test = X_test_bias @ weights_best\n",
    "\n",
    "# Calculate Mean Absolute Error on the test dataset\n",
    "mae_test = MAE(y_test_shuffled, predictions_test)\n",
    "print(\"The value MAE of the Test Data:\", mae_test)"
   ]
  },
  {
   "cell_type": "markdown",
   "metadata": {},
   "source": [
    "Công thức hồi quy (phần trọng số làm tròn đến 3 chữ số thập phân, ví dụ 0.012345 $\\to$ 0.012)\n",
    "\n",
    "$$\\text{Salary} = 368.852*Quant+117759.729$$"
   ]
  },
  {
   "cell_type": "markdown",
   "metadata": {},
   "source": [
    "# Yêu cầu 1d: Sinh viên tự xây dựng mô hình, tìm mô hình cho kết quả tốt nhất (3 điểm)"
   ]
  },
  {
   "cell_type": "markdown",
   "metadata": {},
   "source": [
    "Lưu ý: khi sử dụng cross-validation, sinh viên cần xáo trộn dữ liệu 1 lần duy nhất và thực hiện trên toàn bộ $m$ mô hình mà sinh viên thiết kế"
   ]
  },
  {
   "cell_type": "markdown",
   "metadata": {},
   "source": [
    "## Tìm mô hình"
   ]
  },
  {
   "cell_type": "code",
   "execution_count": 14,
   "metadata": {},
   "outputs": [],
   "source": [
    "# Trình bày các phần tìm ra mô hình"
   ]
  },
  {
   "cell_type": "markdown",
   "metadata": {},
   "source": [
    "## Thử nghiệm, so sánh các mô hình"
   ]
  },
  {
   "cell_type": "code",
   "execution_count": 15,
   "metadata": {},
   "outputs": [],
   "source": [
    "# Phần code cho yêu cầu 1d\n",
    "# Tìm ra mô hình tốt nhất (tự thiết kế bởi sinh viên)\n",
    "# In ra các kết quả cross-validation như yêu cầu"
   ]
  },
  {
   "cell_type": "code",
   "execution_count": 16,
   "metadata": {},
   "outputs": [],
   "source": [
    "# Huấn luyện lại mô hình my_best_model trên toàn bộ tập huấn luyện"
   ]
  },
  {
   "cell_type": "code",
   "execution_count": 17,
   "metadata": {},
   "outputs": [],
   "source": [
    "# Gọi hàm MAE (tự cài đặt hoặc từ thư viện) trên tập kiểm tra với mô hình my_best_model"
   ]
  },
  {
   "cell_type": "markdown",
   "metadata": {},
   "source": [
    "Công thức hồi quy (phần trọng số làm tròn đến 3 chữ số thập phân, ví dụ 0.012345 $\\to$ 0.012)\n",
    "\n",
    "$$\\text{Salary} = ...$$"
   ]
  }
 ],
 "metadata": {
  "kernelspec": {
   "display_name": "Python 3.8.5 ('base')",
   "language": "python",
   "name": "python3"
  },
  "language_info": {
   "codemirror_mode": {
    "name": "ipython",
    "version": 3
   },
   "file_extension": ".py",
   "mimetype": "text/x-python",
   "name": "python",
   "nbconvert_exporter": "python",
   "pygments_lexer": "ipython3",
   "version": "3.11.3"
  },
  "orig_nbformat": 4,
  "vscode": {
   "interpreter": {
    "hash": "15af99fd1a1a3f0a3416ea421564e792a8676a13670c2eed127d89ab0518a27b"
   }
  }
 },
 "nbformat": 4,
 "nbformat_minor": 2
}
